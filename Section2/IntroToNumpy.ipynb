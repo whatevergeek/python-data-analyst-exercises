{
  "metadata": {
    "kernelspec": {
      "display_name": "Python 3",
      "language": "python",
      "name": "python3"
    },
    "language_info": {
      "mimetype": "text/x-python",
      "nbconvert_exporter": "python",
      "name": "python",
      "pygments_lexer": "ipython3",
      "version": "3.5.4",
      "file_extension": ".py",
      "codemirror_mode": {
        "version": 3,
        "name": "ipython"
      }
    },
    "toc": {
      "colors": {
        "hover_highlight": "#DAA520",
        "running_highlight": "#FF0000",
        "selected_highlight": "#FFD700"
      },
      "moveMenuLeft": true,
      "nav_menu": {
        "height": "283px",
        "width": "252px"
      },
      "navigate_menu": true,
      "number_sections": true,
      "sideBar": true,
      "threshold": 4,
      "toc_cell": false,
      "toc_section_display": "block",
      "toc_window_display": false
    }
  },
  "nbformat_minor": 2,
  "nbformat": 4,
  "cells": [
    {
      "cell_type": "markdown",
      "source": "# NumPy: Python’s vectorization solution",
      "metadata": {
        "slideshow": {
          "slide_type": "slide"
        }
      }
    },
    {
      "cell_type": "markdown",
      "source": "NumPy is the fundamental package for scientific computing with Python:\n\t\n- gives the ability to create multi-dimensional array objects\n- performs faster mathematical operations\n- it is base of most of Python's Data Science ecosystem\n\nSome advanced features include:\n\n- sophisticated (broadcasting) functions\n- tools for integrating C/C++ and Fortran code\n- useful linear algebra, Fourier transform, and random number capabilities",
      "metadata": {
        "slideshow": {
          "slide_type": "slide"
        }
      }
    },
    {
      "cell_type": "markdown",
      "source": "## Motivating examples",
      "metadata": {}
    },
    {
      "cell_type": "code",
      "source": "distances = [10, 15, 17, 26, 20]\ntimes = [0.3, 0.47, 0.55, 1.20, 1.0]",
      "metadata": {
        "collapsed": true,
        "trusted": true
      },
      "execution_count": 1,
      "outputs": []
    },
    {
      "cell_type": "code",
      "source": "# Calculate speeds with Python\nspeeds = []\nfor i in range(len(distances)):\n    speeds.append(distances[i]/times[i])\n    \nspeeds",
      "metadata": {
        "collapsed": false,
        "trusted": true
      },
      "execution_count": 2,
      "outputs": [
        {
          "execution_count": 2,
          "output_type": "execute_result",
          "data": {
            "text/plain": "[33.333333333333336,\n 31.914893617021278,\n 30.909090909090907,\n 21.666666666666668,\n 20.0]"
          },
          "metadata": {}
        }
      ]
    },
    {
      "cell_type": "code",
      "source": "[d/t for d,t in zip(distances, times)]",
      "metadata": {
        "collapsed": false,
        "trusted": true
      },
      "execution_count": 3,
      "outputs": [
        {
          "execution_count": 3,
          "output_type": "execute_result",
          "data": {
            "text/plain": "[33.333333333333336,\n 31.914893617021278,\n 30.909090909090907,\n 21.666666666666668,\n 20.0]"
          },
          "metadata": {}
        }
      ]
    },
    {
      "cell_type": "code",
      "source": "product_quantities = [13, 5, 6, 10, 11]\nprices = [1.2, 6.5, 1.0, 4.8, 5.0]\ntotal = sum([q*p for q,p in zip(product_quantities, prices)])\ntotal",
      "metadata": {
        "collapsed": false,
        "trusted": true
      },
      "execution_count": 4,
      "outputs": [
        {
          "execution_count": 4,
          "output_type": "execute_result",
          "data": {
            "text/plain": "157.1"
          },
          "metadata": {}
        }
      ]
    },
    {
      "cell_type": "markdown",
      "source": "#### Personal Note (20190915 10:56am)    \nFrom Book:    \nIt would be really nice if we could have the ability to just get the speeds by distances/times and define the total in the second problem as just product_quantities times the prices list, and get the sum of the multiplication.    \nBut if we run them on the cell, we will get an error because base Python doesn't allow division of a list and multiplication of a list by a list. So this is precisely the kind of operation and the kind of mathematical operation that we can do with NumPy, and this is what we mean when we say vectorization. Vectorization means operating an array, such as object or list, or doing operations element by element.",
      "metadata": {}
    },
    {
      "cell_type": "code",
      "source": "speeds = distances/times\ntotal = (product_quantities*prices).sum()",
      "metadata": {
        "collapsed": false,
        "trusted": true
      },
      "execution_count": 5,
      "outputs": [
        {
          "ename": "TypeError",
          "evalue": "unsupported operand type(s) for /: 'list' and 'list'",
          "traceback": [
            "\u001b[0;31m---------------------------------------------------------------------------\u001b[0m",
            "\u001b[0;31mTypeError\u001b[0m                                 Traceback (most recent call last)",
            "\u001b[0;32m<ipython-input-5-c2430d9899a8>\u001b[0m in \u001b[0;36m<module>\u001b[0;34m()\u001b[0m\n\u001b[0;32m----> 1\u001b[0;31m \u001b[0mspeeds\u001b[0m \u001b[0;34m=\u001b[0m \u001b[0mdistances\u001b[0m\u001b[0;34m/\u001b[0m\u001b[0mtimes\u001b[0m\u001b[0;34m\u001b[0m\u001b[0m\n\u001b[0m\u001b[1;32m      2\u001b[0m \u001b[0mtotal\u001b[0m \u001b[0;34m=\u001b[0m \u001b[0;34m(\u001b[0m\u001b[0mproduct_quantities\u001b[0m\u001b[0;34m*\u001b[0m\u001b[0mprices\u001b[0m\u001b[0;34m)\u001b[0m\u001b[0;34m.\u001b[0m\u001b[0msum\u001b[0m\u001b[0;34m(\u001b[0m\u001b[0;34m)\u001b[0m\u001b[0;34m\u001b[0m\u001b[0m\n",
            "\u001b[0;31mTypeError\u001b[0m: unsupported operand type(s) for /: 'list' and 'list'"
          ],
          "output_type": "error"
        }
      ]
    },
    {
      "cell_type": "markdown",
      "source": "# NumPy arrays: creation, methods and attributes",
      "metadata": {}
    },
    {
      "cell_type": "markdown",
      "source": "## What is a NumPy array?",
      "metadata": {}
    },
    {
      "cell_type": "markdown",
      "source": "NumPy’s main object is the homogeneous multidimensional array. It is a table of elements (usually numbers), all of the same type, indexed by a tuple of positive integers. In NumPy dimensions are called axes. The number of axes is the *rank* or *dimension*.",
      "metadata": {}
    },
    {
      "cell_type": "code",
      "source": "import numpy as np",
      "metadata": {
        "collapsed": true,
        "trusted": true
      },
      "execution_count": 6,
      "outputs": []
    },
    {
      "cell_type": "markdown",
      "source": "## Creating arrays: from lists and using built-in functions",
      "metadata": {}
    },
    {
      "cell_type": "code",
      "source": "# arrays from lists\ndistances = [10, 15, 17, 26, 20]\ntimes = [0.3, 0.47, 0.55, 1.20, 1.0]\ndistances = np.array(distances)\ntimes = np.array(times)",
      "metadata": {
        "collapsed": true,
        "trusted": true
      },
      "execution_count": 7,
      "outputs": []
    },
    {
      "cell_type": "code",
      "source": "product_quantities = [13, 5, 6, 10, 11]\nprices = [1.2, 6.5, 1.0, 4.8, 5.0]\nproduct_quantities = np.array(product_quantities)\nprices = np.array(prices)",
      "metadata": {
        "collapsed": true,
        "trusted": true
      },
      "execution_count": 8,
      "outputs": []
    },
    {
      "cell_type": "code",
      "source": "distances",
      "metadata": {
        "collapsed": false,
        "trusted": true
      },
      "execution_count": 9,
      "outputs": [
        {
          "execution_count": 9,
          "output_type": "execute_result",
          "data": {
            "text/plain": "array([10, 15, 17, 26, 20])"
          },
          "metadata": {}
        }
      ]
    },
    {
      "cell_type": "code",
      "source": "type(distances)",
      "metadata": {
        "collapsed": false,
        "trusted": true
      },
      "execution_count": 10,
      "outputs": [
        {
          "execution_count": 10,
          "output_type": "execute_result",
          "data": {
            "text/plain": "numpy.ndarray"
          },
          "metadata": {}
        }
      ]
    },
    {
      "cell_type": "markdown",
      "source": "If we pass np.array() a list of lists, it will create a 2-dimensional array. If pass a list of lists of lists, it will create a 3-dimensional array, and so on and so forth.",
      "metadata": {}
    },
    {
      "cell_type": "code",
      "source": "A = np.array([[1, 2], [3, 4]])\nA",
      "metadata": {
        "collapsed": false,
        "trusted": true
      },
      "execution_count": 11,
      "outputs": [
        {
          "execution_count": 11,
          "output_type": "execute_result",
          "data": {
            "text/plain": "array([[1, 2],\n       [3, 4]])"
          },
          "metadata": {}
        }
      ]
    },
    {
      "cell_type": "code",
      "source": "# Create a length-10 integer array filled with zeros\nnp.zeros(10, dtype=int)",
      "metadata": {
        "collapsed": false,
        "trusted": true
      },
      "execution_count": 12,
      "outputs": [
        {
          "execution_count": 12,
          "output_type": "execute_result",
          "data": {
            "text/plain": "array([0, 0, 0, 0, 0, 0, 0, 0, 0, 0])"
          },
          "metadata": {}
        }
      ]
    },
    {
      "cell_type": "code",
      "source": "# Create a 3x5 floating-point array filled with ones\nnp.ones(shape=(3, 5), dtype=float)",
      "metadata": {
        "collapsed": false,
        "trusted": true
      },
      "execution_count": 13,
      "outputs": [
        {
          "execution_count": 13,
          "output_type": "execute_result",
          "data": {
            "text/plain": "array([[1., 1., 1., 1., 1.],\n       [1., 1., 1., 1., 1.],\n       [1., 1., 1., 1., 1.]])"
          },
          "metadata": {}
        }
      ]
    },
    {
      "cell_type": "code",
      "source": "# Create an array filled with a linear sequence\n# Starting at 0, ending at 20, stepping by 2\nnp.arange(start=0, stop=20, step=2)",
      "metadata": {
        "collapsed": false,
        "trusted": true
      },
      "execution_count": 14,
      "outputs": [
        {
          "execution_count": 14,
          "output_type": "execute_result",
          "data": {
            "text/plain": "array([ 0,  2,  4,  6,  8, 10, 12, 14, 16, 18])"
          },
          "metadata": {}
        }
      ]
    },
    {
      "cell_type": "code",
      "source": "# Create an array of 20 values evenly spaced between 0 and 1\nnp.linspace(0, 1, 20)",
      "metadata": {
        "collapsed": false,
        "trusted": true
      },
      "execution_count": 15,
      "outputs": [
        {
          "execution_count": 15,
          "output_type": "execute_result",
          "data": {
            "text/plain": "array([0.        , 0.05263158, 0.10526316, 0.15789474, 0.21052632,\n       0.26315789, 0.31578947, 0.36842105, 0.42105263, 0.47368421,\n       0.52631579, 0.57894737, 0.63157895, 0.68421053, 0.73684211,\n       0.78947368, 0.84210526, 0.89473684, 0.94736842, 1.        ])"
          },
          "metadata": {}
        }
      ]
    },
    {
      "cell_type": "markdown",
      "source": "## Some attributes of arrays",
      "metadata": {}
    },
    {
      "cell_type": "code",
      "source": "A = np.ones(shape=(3, 4), dtype=float)\nA",
      "metadata": {
        "collapsed": false,
        "trusted": true
      },
      "execution_count": 16,
      "outputs": [
        {
          "execution_count": 16,
          "output_type": "execute_result",
          "data": {
            "text/plain": "array([[1., 1., 1., 1.],\n       [1., 1., 1., 1.],\n       [1., 1., 1., 1.]])"
          },
          "metadata": {}
        }
      ]
    },
    {
      "cell_type": "code",
      "source": "A.ndim",
      "metadata": {
        "collapsed": false,
        "trusted": true
      },
      "execution_count": 17,
      "outputs": [
        {
          "execution_count": 17,
          "output_type": "execute_result",
          "data": {
            "text/plain": "2"
          },
          "metadata": {}
        }
      ]
    },
    {
      "cell_type": "code",
      "source": "A.shape",
      "metadata": {
        "collapsed": false,
        "trusted": true
      },
      "execution_count": 18,
      "outputs": [
        {
          "execution_count": 18,
          "output_type": "execute_result",
          "data": {
            "text/plain": "(3, 4)"
          },
          "metadata": {}
        }
      ]
    },
    {
      "cell_type": "code",
      "source": "A.size",
      "metadata": {
        "collapsed": false,
        "trusted": true
      },
      "execution_count": 19,
      "outputs": [
        {
          "execution_count": 19,
          "output_type": "execute_result",
          "data": {
            "text/plain": "12"
          },
          "metadata": {}
        }
      ]
    },
    {
      "cell_type": "markdown",
      "source": "## Basic math with arrays",
      "metadata": {}
    },
    {
      "cell_type": "markdown",
      "source": "distances = [10, 15, 17, 26, 20]\n\ntimes = [0.3, 0.47, 0.55, 1.20, 1.0]",
      "metadata": {}
    },
    {
      "cell_type": "code",
      "source": "speeds = distances/times\nspeeds",
      "metadata": {
        "collapsed": false,
        "trusted": true
      },
      "execution_count": 20,
      "outputs": [
        {
          "execution_count": 20,
          "output_type": "execute_result",
          "data": {
            "text/plain": "array([33.33333333, 31.91489362, 30.90909091, 21.66666667, 20.        ])"
          },
          "metadata": {}
        }
      ]
    },
    {
      "cell_type": "markdown",
      "source": "product_quantities = [13, 5, 6, 10, 11]\n\nprices = [1.2, 6.5, 1.0, 4.8, 5.0]",
      "metadata": {}
    },
    {
      "cell_type": "code",
      "source": "values = product_quantities*prices\ntotal = values.sum()\nprint(values)\ntotal",
      "metadata": {
        "collapsed": false,
        "trusted": true
      },
      "execution_count": 21,
      "outputs": [
        {
          "text": "[15.6 32.5  6.  48.  55. ]\n",
          "name": "stdout",
          "output_type": "stream"
        },
        {
          "execution_count": 21,
          "output_type": "execute_result",
          "data": {
            "text/plain": "157.1"
          },
          "metadata": {}
        }
      ]
    },
    {
      "cell_type": "code",
      "source": "x = np.arange(start=0, stop=20, step=2)\nx",
      "metadata": {
        "collapsed": false,
        "trusted": true
      },
      "execution_count": 22,
      "outputs": [
        {
          "execution_count": 22,
          "output_type": "execute_result",
          "data": {
            "text/plain": "array([ 0,  2,  4,  6,  8, 10, 12, 14, 16, 18])"
          },
          "metadata": {}
        }
      ]
    },
    {
      "cell_type": "code",
      "source": "x + 1",
      "metadata": {
        "collapsed": false,
        "trusted": true
      },
      "execution_count": 23,
      "outputs": [
        {
          "execution_count": 23,
          "output_type": "execute_result",
          "data": {
            "text/plain": "array([ 1,  3,  5,  7,  9, 11, 13, 15, 17, 19])"
          },
          "metadata": {}
        }
      ]
    },
    {
      "cell_type": "code",
      "source": "x * 2",
      "metadata": {
        "collapsed": false,
        "trusted": true
      },
      "execution_count": 24,
      "outputs": [
        {
          "execution_count": 24,
          "output_type": "execute_result",
          "data": {
            "text/plain": "array([ 0,  4,  8, 12, 16, 20, 24, 28, 32, 36])"
          },
          "metadata": {}
        }
      ]
    },
    {
      "cell_type": "code",
      "source": "x/2",
      "metadata": {
        "collapsed": false,
        "trusted": true
      },
      "execution_count": 25,
      "outputs": [
        {
          "execution_count": 25,
          "output_type": "execute_result",
          "data": {
            "text/plain": "array([0., 1., 2., 3., 4., 5., 6., 7., 8., 9.])"
          },
          "metadata": {}
        }
      ]
    },
    {
      "cell_type": "code",
      "source": "# Universal functions\nnp.sin(x)",
      "metadata": {
        "collapsed": false,
        "trusted": true
      },
      "execution_count": 26,
      "outputs": [
        {
          "execution_count": 26,
          "output_type": "execute_result",
          "data": {
            "text/plain": "array([ 0.        ,  0.90929743, -0.7568025 , -0.2794155 ,  0.98935825,\n       -0.54402111, -0.53657292,  0.99060736, -0.28790332, -0.75098725])"
          },
          "metadata": {}
        }
      ]
    },
    {
      "cell_type": "code",
      "source": "np.exp(x)",
      "metadata": {
        "collapsed": false,
        "trusted": true
      },
      "execution_count": 27,
      "outputs": [
        {
          "execution_count": 27,
          "output_type": "execute_result",
          "data": {
            "text/plain": "array([1.00000000e+00, 7.38905610e+00, 5.45981500e+01, 4.03428793e+02,\n       2.98095799e+03, 2.20264658e+04, 1.62754791e+05, 1.20260428e+06,\n       8.88611052e+06, 6.56599691e+07])"
          },
          "metadata": {}
        }
      ]
    },
    {
      "cell_type": "code",
      "source": "np.log(x+1)",
      "metadata": {
        "collapsed": false,
        "trusted": true
      },
      "execution_count": 28,
      "outputs": [
        {
          "execution_count": 28,
          "output_type": "execute_result",
          "data": {
            "text/plain": "array([0.        , 1.09861229, 1.60943791, 1.94591015, 2.19722458,\n       2.39789527, 2.56494936, 2.7080502 , 2.83321334, 2.94443898])"
          },
          "metadata": {}
        }
      ]
    },
    {
      "cell_type": "code",
      "source": "np.sqrt(x)",
      "metadata": {
        "collapsed": false,
        "trusted": true
      },
      "execution_count": 29,
      "outputs": [
        {
          "execution_count": 29,
          "output_type": "execute_result",
          "data": {
            "text/plain": "array([0.        , 1.41421356, 2.        , 2.44948974, 2.82842712,\n       3.16227766, 3.46410162, 3.74165739, 4.        , 4.24264069])"
          },
          "metadata": {}
        }
      ]
    },
    {
      "cell_type": "markdown",
      "source": "## Common manipulations: indexing, slicing and reshaping",
      "metadata": {}
    },
    {
      "cell_type": "markdown",
      "source": "### Indexing: Getting and setting the value of individual array elements",
      "metadata": {}
    },
    {
      "cell_type": "code",
      "source": "one_dim = np.linspace(-0.5, 0.6, 12)\none_dim",
      "metadata": {
        "collapsed": false,
        "trusted": true
      },
      "execution_count": 30,
      "outputs": [
        {
          "execution_count": 30,
          "output_type": "execute_result",
          "data": {
            "text/plain": "array([-0.5, -0.4, -0.3, -0.2, -0.1,  0. ,  0.1,  0.2,  0.3,  0.4,  0.5,\n        0.6])"
          },
          "metadata": {}
        }
      ]
    },
    {
      "cell_type": "code",
      "source": "one_dim[5]",
      "metadata": {
        "collapsed": false,
        "trusted": true
      },
      "execution_count": 31,
      "outputs": [
        {
          "execution_count": 31,
          "output_type": "execute_result",
          "data": {
            "text/plain": "0.0"
          },
          "metadata": {}
        }
      ]
    },
    {
      "cell_type": "code",
      "source": "one_dim[0] = 1\none_dim",
      "metadata": {
        "collapsed": false,
        "trusted": true
      },
      "execution_count": 32,
      "outputs": [
        {
          "execution_count": 32,
          "output_type": "execute_result",
          "data": {
            "text/plain": "array([ 1. , -0.4, -0.3, -0.2, -0.1,  0. ,  0.1,  0.2,  0.3,  0.4,  0.5,\n        0.6])"
          },
          "metadata": {}
        }
      ]
    },
    {
      "cell_type": "code",
      "source": "two_dim = np.array([[3, 5, 2, 4], [7, 6, 5, 5], [1, 6, -1, -1]])\ntwo_dim",
      "metadata": {
        "collapsed": false,
        "trusted": true
      },
      "execution_count": 33,
      "outputs": [
        {
          "execution_count": 33,
          "output_type": "execute_result",
          "data": {
            "text/plain": "array([[ 3,  5,  2,  4],\n       [ 7,  6,  5,  5],\n       [ 1,  6, -1, -1]])"
          },
          "metadata": {}
        }
      ]
    },
    {
      "cell_type": "code",
      "source": "two_dim[0,3]",
      "metadata": {
        "collapsed": false,
        "trusted": true
      },
      "execution_count": 34,
      "outputs": [
        {
          "execution_count": 34,
          "output_type": "execute_result",
          "data": {
            "text/plain": "4"
          },
          "metadata": {}
        }
      ]
    },
    {
      "cell_type": "code",
      "source": "two_dim[0,0] = -1\ntwo_dim",
      "metadata": {
        "collapsed": false,
        "trusted": true
      },
      "execution_count": 35,
      "outputs": [
        {
          "execution_count": 35,
          "output_type": "execute_result",
          "data": {
            "text/plain": "array([[-1,  5,  2,  4],\n       [ 7,  6,  5,  5],\n       [ 1,  6, -1, -1]])"
          },
          "metadata": {}
        }
      ]
    },
    {
      "cell_type": "markdown",
      "source": "### Slicing: Getting and setting smaller subarrays within a larger array",
      "metadata": {}
    },
    {
      "cell_type": "code",
      "source": "one_dim",
      "metadata": {
        "collapsed": false,
        "trusted": true
      },
      "execution_count": 36,
      "outputs": [
        {
          "execution_count": 36,
          "output_type": "execute_result",
          "data": {
            "text/plain": "array([ 1. , -0.4, -0.3, -0.2, -0.1,  0. ,  0.1,  0.2,  0.3,  0.4,  0.5,\n        0.6])"
          },
          "metadata": {}
        }
      ]
    },
    {
      "cell_type": "code",
      "source": "print(one_dim[2:5])\nprint(one_dim[:5])\nprint(one_dim[-5:])",
      "metadata": {
        "collapsed": false,
        "trusted": true
      },
      "execution_count": 37,
      "outputs": [
        {
          "text": "[-0.3 -0.2 -0.1]\n[ 1.  -0.4 -0.3 -0.2 -0.1]\n[0.2 0.3 0.4 0.5 0.6]\n",
          "name": "stdout",
          "output_type": "stream"
        }
      ]
    },
    {
      "cell_type": "code",
      "source": "two_dim",
      "metadata": {
        "collapsed": false,
        "trusted": true
      },
      "execution_count": 38,
      "outputs": [
        {
          "execution_count": 38,
          "output_type": "execute_result",
          "data": {
            "text/plain": "array([[-1,  5,  2,  4],\n       [ 7,  6,  5,  5],\n       [ 1,  6, -1, -1]])"
          },
          "metadata": {}
        }
      ]
    },
    {
      "cell_type": "code",
      "source": "two_dim[:2,:2]",
      "metadata": {
        "collapsed": false,
        "trusted": true
      },
      "execution_count": 39,
      "outputs": [
        {
          "execution_count": 39,
          "output_type": "execute_result",
          "data": {
            "text/plain": "array([[-1,  5],\n       [ 7,  6]])"
          },
          "metadata": {}
        }
      ]
    },
    {
      "cell_type": "code",
      "source": "two_dim[:,1:3]",
      "metadata": {
        "collapsed": false,
        "trusted": true
      },
      "execution_count": 40,
      "outputs": [
        {
          "execution_count": 40,
          "output_type": "execute_result",
          "data": {
            "text/plain": "array([[ 5,  2],\n       [ 6,  5],\n       [ 6, -1]])"
          },
          "metadata": {}
        }
      ]
    },
    {
      "cell_type": "markdown",
      "source": "### Reshaping of arrays: Changing the shape of a given array",
      "metadata": {}
    },
    {
      "cell_type": "code",
      "source": "one_dim",
      "metadata": {
        "collapsed": false,
        "trusted": true
      },
      "execution_count": 41,
      "outputs": [
        {
          "execution_count": 41,
          "output_type": "execute_result",
          "data": {
            "text/plain": "array([ 1. , -0.4, -0.3, -0.2, -0.1,  0. ,  0.1,  0.2,  0.3,  0.4,  0.5,\n        0.6])"
          },
          "metadata": {}
        }
      ]
    },
    {
      "cell_type": "code",
      "source": "one_dim.reshape(2,6)",
      "metadata": {
        "collapsed": false,
        "trusted": true
      },
      "execution_count": 42,
      "outputs": [
        {
          "execution_count": 42,
          "output_type": "execute_result",
          "data": {
            "text/plain": "array([[ 1. , -0.4, -0.3, -0.2, -0.1,  0. ],\n       [ 0.1,  0.2,  0.3,  0.4,  0.5,  0.6]])"
          },
          "metadata": {}
        }
      ]
    },
    {
      "cell_type": "code",
      "source": "two_dim",
      "metadata": {
        "collapsed": false,
        "trusted": true
      },
      "execution_count": 43,
      "outputs": [
        {
          "execution_count": 43,
          "output_type": "execute_result",
          "data": {
            "text/plain": "array([[-1,  5,  2,  4],\n       [ 7,  6,  5,  5],\n       [ 1,  6, -1, -1]])"
          },
          "metadata": {}
        }
      ]
    },
    {
      "cell_type": "code",
      "source": "two_dim.flatten()",
      "metadata": {
        "collapsed": false,
        "scrolled": true,
        "trusted": true
      },
      "execution_count": 44,
      "outputs": [
        {
          "execution_count": 44,
          "output_type": "execute_result",
          "data": {
            "text/plain": "array([-1,  5,  2,  4,  7,  6,  5,  5,  1,  6, -1, -1])"
          },
          "metadata": {}
        }
      ]
    },
    {
      "cell_type": "markdown",
      "source": "# Example: Performing a simulation",
      "metadata": {}
    },
    {
      "cell_type": "markdown",
      "source": "## Coin flips",
      "metadata": {}
    },
    {
      "cell_type": "code",
      "source": "# throwing a coin 1 time: 0 is tail, 1 heads\nnp.random.randint(low=0, high=2, size=1)",
      "metadata": {
        "collapsed": false,
        "trusted": true
      },
      "execution_count": 45,
      "outputs": [
        {
          "execution_count": 45,
          "output_type": "execute_result",
          "data": {
            "text/plain": "array([0])"
          },
          "metadata": {}
        }
      ]
    },
    {
      "cell_type": "code",
      "source": "# throwing a coin 10 times: 0 is tail, 1 heads\nexperiment = np.random.randint(0,2, size=10)\nprint(experiment)\nprint(experiment.sum())",
      "metadata": {
        "collapsed": false,
        "trusted": true
      },
      "execution_count": 46,
      "outputs": [
        {
          "text": "[1 1 1 1 1 1 1 1 0 1]\n9\n",
          "name": "stdout",
          "output_type": "stream"
        }
      ]
    },
    {
      "cell_type": "code",
      "source": "#Each column of this matrix will be one 10-tosses simulation\ncoin_matrix = np.random.randint(0,2,size=(10000,10)) \ncoin_matrix[:5,:]",
      "metadata": {
        "collapsed": false,
        "trusted": true
      },
      "execution_count": 47,
      "outputs": [
        {
          "execution_count": 47,
          "output_type": "execute_result",
          "data": {
            "text/plain": "array([[1, 0, 0, 0, 1, 0, 1, 0, 1, 1],\n       [1, 0, 0, 1, 1, 0, 1, 0, 1, 1],\n       [1, 1, 1, 1, 0, 1, 1, 0, 0, 1],\n       [0, 0, 0, 0, 0, 0, 1, 0, 0, 1],\n       [0, 1, 0, 0, 0, 1, 1, 1, 0, 1]])"
          },
          "metadata": {}
        }
      ]
    },
    {
      "cell_type": "code",
      "source": "counts = coin_matrix.sum(axis=1)\nprint(counts[:25])\nprint(counts.mean())\nprint(np.median(counts))\nprint(counts.min(), counts.max())\nprint(counts.std())",
      "metadata": {
        "collapsed": false,
        "trusted": true
      },
      "execution_count": 48,
      "outputs": [
        {
          "text": "[5 6 7 2 5 6 5 5 4 5 5 5 3 3 2 5 8 2 2 5 5 1 4 4 5]\n5.0041\n5.0\n0 10\n1.5717770802502498\n",
          "name": "stdout",
          "output_type": "stream"
        }
      ]
    },
    {
      "cell_type": "code",
      "source": "np.bincount(counts)",
      "metadata": {
        "collapsed": false,
        "trusted": true
      },
      "execution_count": 49,
      "outputs": [
        {
          "execution_count": 49,
          "output_type": "execute_result",
          "data": {
            "text/plain": "array([   7,  100,  433, 1161, 2056, 2443, 2083, 1177,  449,   86,    5])"
          },
          "metadata": {}
        }
      ]
    },
    {
      "cell_type": "code",
      "source": "unique_numbers = np.arange(0,11) # The numbers that where observed in the counts vector\nobserved_times = np.bincount(counts) # Check out the documentation for the np.bincount function\nprint(\"===============\\n\")\nfor n, count in zip(unique_numbers, observed_times):\n    print(\"{} heads observed {} times ({:0.1f}%)\".format(n, count, 100*count/2000))",
      "metadata": {
        "collapsed": false,
        "trusted": true
      },
      "execution_count": 50,
      "outputs": [
        {
          "text": "===============\n\n0 heads observed 7 times (0.3%)\n1 heads observed 100 times (5.0%)\n2 heads observed 433 times (21.6%)\n3 heads observed 1161 times (58.0%)\n4 heads observed 2056 times (102.8%)\n5 heads observed 2443 times (122.2%)\n6 heads observed 2083 times (104.2%)\n7 heads observed 1177 times (58.9%)\n8 heads observed 449 times (22.4%)\n9 heads observed 86 times (4.3%)\n10 heads observed 5 times (0.2%)\n",
          "name": "stdout",
          "output_type": "stream"
        }
      ]
    },
    {
      "cell_type": "markdown",
      "source": "## Simulating Stock Returns",
      "metadata": {}
    },
    {
      "cell_type": "code",
      "source": "import matplotlib.pyplot as plt\n%matplotlib inline",
      "metadata": {
        "collapsed": true,
        "trusted": true
      },
      "execution_count": 51,
      "outputs": [
        {
          "text": "/home/nbuser/anaconda3_420/lib/python3.5/site-packages/matplotlib/font_manager.py:281: UserWarning: Matplotlib is building the font cache using fc-list. This may take a moment.\n  'Matplotlib is building the font cache using fc-list. '\n",
          "name": "stderr",
          "output_type": "stream"
        }
      ]
    },
    {
      "cell_type": "code",
      "source": "returns = np.random.normal(0.001, 0.02, 250)",
      "metadata": {
        "collapsed": true,
        "trusted": true
      },
      "execution_count": 52,
      "outputs": []
    },
    {
      "cell_type": "code",
      "source": "returns[:20]",
      "metadata": {
        "collapsed": false,
        "trusted": true
      },
      "execution_count": 53,
      "outputs": [
        {
          "execution_count": 53,
          "output_type": "execute_result",
          "data": {
            "text/plain": "array([ 0.01449467,  0.01920788, -0.04634728, -0.00298944,  0.04250908,\n       -0.03697681,  0.00831451, -0.01128027, -0.03847755,  0.02213834,\n       -0.01859292, -0.01525073,  0.00428664,  0.00993559, -0.05668438,\n        0.00016219,  0.00313117,  0.04584054,  0.01088284, -0.0007794 ])"
          },
          "metadata": {}
        }
      ]
    },
    {
      "cell_type": "code",
      "source": "initial_price = 100",
      "metadata": {
        "collapsed": true,
        "trusted": true
      },
      "execution_count": 54,
      "outputs": []
    },
    {
      "cell_type": "code",
      "source": "price = initial_price*np.exp(returns.cumsum())",
      "metadata": {
        "collapsed": true,
        "trusted": true
      },
      "execution_count": 55,
      "outputs": []
    },
    {
      "cell_type": "code",
      "source": "plt.plot(price)\nplt.grid();",
      "metadata": {
        "collapsed": false,
        "trusted": true
      },
      "execution_count": 56,
      "outputs": [
        {
          "output_type": "display_data",
          "data": {
            "image/png": "[encoded data removed]",
            "text/plain": "<matplotlib.figure.Figure at 0x7fd01d48fd30>"
          },
          "metadata": {}
        }
      ]
    },
    {
      "cell_type": "code",
      "source": "returns = np.random.normal(0.001, 0.02, 250)\ninitial_price = 100\nprice = initial_price*np.exp(returns.cumsum())\nplt.plot(price)\nplt.grid();",
      "metadata": {
        "collapsed": false,
        "trusted": true
      },
      "execution_count": 57,
      "outputs": [
        {
          "output_type": "display_data",
          "data": {
            "image/png": "[encoded data removed]",
            "text/plain": "<matplotlib.figure.Figure at 0x7fd01d4554e0>"
          },
          "metadata": {}
        }
      ]
    }
  ]
}